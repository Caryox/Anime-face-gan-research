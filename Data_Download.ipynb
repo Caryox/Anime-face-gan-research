{
 "cells": [
  {
   "cell_type": "code",
   "execution_count": null,
   "source": [
    "import requests\r\n",
    "\r\n",
    "url = 'https://drive.google.com/uc?export=download&confirm=ammS&id=1HG7YnakUkjaxtNMclbl2t5sJwGLcHYsI'\r\n",
    "target_path = 'Images\\'\r\n",
    "\r\n",
    "response = requests.get(url, stream=True)\r\n",
    "if response.status_code == 200:\r\n",
    "    with open(target_path, 'wb') as f:\r\n",
    "        f.write(response.raw.read())"
   ],
   "outputs": [],
   "metadata": {}
  }
 ],
 "metadata": {
  "interpreter": {
   "hash": "d8b918c89da8765068b7e87dc4224bfe6764448d2534311740ce81ff70ec8aee"
  },
  "kernelspec": {
   "display_name": "Python 3.7.7 64-bit ('base': conda)",
   "name": "python377jvsc74a57bd034dfee18d5f4a96df9a8fcc719c91cf50e8ed50de2aa108bf45cd20982063274"
  },
  "language_info": {
   "codemirror_mode": {
    "name": "ipython",
    "version": 3
   },
   "file_extension": ".py",
   "mimetype": "text/x-python",
   "name": "python",
   "nbconvert_exporter": "python",
   "pygments_lexer": "ipython3",
   "version": "3.7.7"
  }
 },
 "nbformat": 4,
 "nbformat_minor": 2
}